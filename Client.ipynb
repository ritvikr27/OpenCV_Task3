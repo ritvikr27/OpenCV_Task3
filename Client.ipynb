{
 "cells": [
  {
   "cell_type": "code",
   "execution_count": 1,
   "id": "065bc645",
   "metadata": {},
   "outputs": [],
   "source": [
    "import socket\n",
    "import cv2\n",
    "import pickle\n",
    "import struct\n",
    "import imutils"
   ]
  },
  {
   "cell_type": "code",
   "execution_count": 2,
   "id": "bed3cd99",
   "metadata": {},
   "outputs": [],
   "source": [
    "##Socket Creation:\n",
    "client_socket = socket.socket(socket.AF_INET,socket.SOCK_STREAM)\n",
    "host_ip = '192.168.99.1' # paste your HOST IP\n",
    "port = 10050"
   ]
  },
  {
   "cell_type": "code",
   "execution_count": 3,
   "id": "f77715b6",
   "metadata": {},
   "outputs": [],
   "source": [
    "##Socket Connect:\n",
    "client_socket.connect((host_ip,port))  # tuple\n",
    "data = b\"\" # Initialise data variable as a string , b - bytes\n",
    "# Payload size is defined with \"Q\" i.e.,unsigned long long integer that takes 8 bytes\n",
    "payload_size = struct.calcsize(\"Q\")"
   ]
  },
  {
   "cell_type": "code",
   "execution_count": 4,
   "id": "1f916aa7",
   "metadata": {},
   "outputs": [
    {
     "ename": "KeyboardInterrupt",
     "evalue": "",
     "output_type": "error",
     "traceback": [
      "\u001b[1;31m---------------------------------------------------------------------------\u001b[0m",
      "\u001b[1;31mKeyboardInterrupt\u001b[0m                         Traceback (most recent call last)",
      "\u001b[1;32m<ipython-input-4-b75ba4871a86>\u001b[0m in \u001b[0;36m<module>\u001b[1;34m\u001b[0m\n\u001b[0;32m     10\u001b[0m \u001b[1;33m\u001b[0m\u001b[0m\n\u001b[0;32m     11\u001b[0m     \u001b[1;32mwhile\u001b[0m \u001b[0mlen\u001b[0m\u001b[1;33m(\u001b[0m\u001b[0mdata\u001b[0m\u001b[1;33m)\u001b[0m \u001b[1;33m<\u001b[0m \u001b[0mmsg_size\u001b[0m\u001b[1;33m:\u001b[0m\u001b[1;33m\u001b[0m\u001b[0m\n\u001b[1;32m---> 12\u001b[1;33m         \u001b[0mdata\u001b[0m \u001b[1;33m+=\u001b[0m \u001b[0mclient_socket\u001b[0m\u001b[1;33m.\u001b[0m\u001b[0mrecv\u001b[0m\u001b[1;33m(\u001b[0m\u001b[1;36m4\u001b[0m\u001b[1;33m*\u001b[0m\u001b[1;36m1024\u001b[0m\u001b[1;33m)\u001b[0m\u001b[1;33m\u001b[0m\u001b[0m\n\u001b[0m\u001b[0;32m     13\u001b[0m     \u001b[0mframe_data\u001b[0m \u001b[1;33m=\u001b[0m \u001b[0mdata\u001b[0m\u001b[1;33m[\u001b[0m\u001b[1;33m:\u001b[0m\u001b[0mmsg_size\u001b[0m\u001b[1;33m]\u001b[0m\u001b[1;33m\u001b[0m\u001b[0m\n\u001b[0;32m     14\u001b[0m     \u001b[0mdata\u001b[0m  \u001b[1;33m=\u001b[0m \u001b[0mdata\u001b[0m\u001b[1;33m[\u001b[0m\u001b[0mmsg_size\u001b[0m\u001b[1;33m:\u001b[0m\u001b[1;33m]\u001b[0m\u001b[1;33m\u001b[0m\u001b[0m\n",
      "\u001b[1;31mKeyboardInterrupt\u001b[0m: "
     ]
    }
   ],
   "source": [
    "##Socket Receive:\n",
    "while True:\n",
    "    while len(data) < payload_size:\n",
    "        packet = client_socket.recv(4*1024) # 4K\n",
    "        if not packet: break\n",
    "        data+=packet\n",
    "    packed_msg_size = data[:payload_size]\n",
    "    data = data[payload_size:]\n",
    "    msg_size = struct.unpack(\"Q\",packed_msg_size)[0]\n",
    "    \n",
    "    while len(data) < msg_size:\n",
    "        data += client_socket.recv(4*1024)\n",
    "    frame_data = data[:msg_size]\n",
    "    data  = data[msg_size:]\n",
    "    frame = pickle.loads(frame_data)\n",
    "    cv2.imshow(\"RECEIVING VIDEO\",frame)\n",
    "    key = cv2.waitKey(10) \n",
    "    if key  == 13:\n",
    "        break\n",
    "client_socket.close()"
   ]
  },
  {
   "cell_type": "code",
   "execution_count": null,
   "id": "8d8bfd92",
   "metadata": {},
   "outputs": [],
   "source": []
  },
  {
   "cell_type": "code",
   "execution_count": null,
   "id": "f13ede5a",
   "metadata": {},
   "outputs": [],
   "source": []
  }
 ],
 "metadata": {
  "kernelspec": {
   "display_name": "Python 3",
   "language": "python",
   "name": "python3"
  },
  "language_info": {
   "codemirror_mode": {
    "name": "ipython",
    "version": 3
   },
   "file_extension": ".py",
   "mimetype": "text/x-python",
   "name": "python",
   "nbconvert_exporter": "python",
   "pygments_lexer": "ipython3",
   "version": "3.6.5"
  }
 },
 "nbformat": 4,
 "nbformat_minor": 5
}
